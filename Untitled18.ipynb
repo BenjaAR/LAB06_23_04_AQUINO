{
  "nbformat": 4,
  "nbformat_minor": 0,
  "metadata": {
    "colab": {
      "provenance": [],
      "include_colab_link": true
    },
    "kernelspec": {
      "name": "python3",
      "display_name": "Python 3"
    },
    "language_info": {
      "name": "python"
    }
  },
  "cells": [
    {
      "cell_type": "markdown",
      "metadata": {
        "id": "view-in-github",
        "colab_type": "text"
      },
      "source": [
        "<a href=\"https://colab.research.google.com/github/BenjaAR/LAB06_23_04_AQUINO/blob/main/Untitled18.ipynb\" target=\"_parent\"><img src=\"https://colab.research.google.com/assets/colab-badge.svg\" alt=\"Open In Colab\"/></a>"
      ]
    },
    {
      "cell_type": "markdown",
      "source": [
        "# **SEMANA 6: ALGORITMOS PARA DIFERENTES TIPOS DE TAREAS. VALIDACIÓN CRUZADA Y MÉTRICAS DE EVALUACIÓN. CLASES DESBALANCEADAS**"
      ],
      "metadata": {
        "id": "Nljmk9rOHAmw"
      }
    },
    {
      "cell_type": "markdown",
      "source": [
        "##Integrantes:\n",
        "\n",
        "*   AQUINO REYES, BENJY ALVARO\n",
        "*   HUAMAN QUISPE, ABRAHAM SEBASTIAN JONATHAN\n",
        "\n"
      ],
      "metadata": {
        "id": "rjcqeM1BHSZz"
      }
    },
    {
      "cell_type": "code",
      "execution_count": null,
      "metadata": {
        "id": "0Gd6nhCGGnHy"
      },
      "outputs": [],
      "source": [
        "import pandas as pd\n",
        "import numpy as np\n",
        "from sklearn.model_selection import train_test_split\n",
        "from sklearn.preprocessing import StandardScaler\n",
        "from sklearn.neighbors import KNeighborsClassifier\n",
        "from sklearn.metrics import classification_report, confusion_matrix, accuracy_score, precision_score, recall_score, f1_score\n",
        "from imblearn.over_sampling import SMOTE\n",
        "import matplotlib.pyplot as plt\n",
        "import seaborn as sns"
      ]
    },
    {
      "cell_type": "markdown",
      "source": [
        "## A.- Lea la base de datos, realice imputaciones, tratamiento de outliers y transformaciones de datos en caso sea necesario. Además, separe la variable de clasificación del resto de variables para luego obtener los datos de entrenamiento y prueba, tomando de este último el 25% de datos."
      ],
      "metadata": {
        "id": "V5QNp73IZJmN"
      }
    },
    {
      "cell_type": "code",
      "source": [
        "import pandas as pd\n",
        "import numpy as np\n",
        "from sklearn.model_selection import train_test_split\n",
        "from sklearn.preprocessing import StandardScaler\n",
        "\n",
        "# Cargar datos desde UCI\n",
        "url = \"https://archive.ics.uci.edu/ml/machine-learning-databases/breast-cancer-wisconsin/breast-cancer-wisconsin.data\"\n",
        "column_names = [\n",
        "    'Sample code number', 'Clump Thickness', 'Uniformity of Cell Size',\n",
        "    'Uniformity of Cell Shape', 'Marginal Adhesion', 'Single Epithelial Cell Size',\n",
        "    'Bare Nuclei', 'Bland Chromatin', 'Normal Nucleoli', 'Mitoses', 'Class'\n",
        "]\n",
        "df = pd.read_csv(url, names=column_names)\n",
        "\n",
        "# Manejar valores faltantes (?) y convertir a numérico\n",
        "df.replace('?', np.nan, inplace=True)\n",
        "df['Bare Nuclei'] = pd.to_numeric(df['Bare Nuclei'])\n",
        "df.fillna(df.median(), inplace=True)\n",
        "\n",
        "# Tratamiento de outliers usando IQR\n",
        "for col in df.columns[1:-1]:\n",
        "    Q1 = df[col].quantile(0.25)\n",
        "    Q3 = df[col].quantile(0.75)\n",
        "    IQR = Q3 - Q1\n",
        "    lower = Q1 - 1.5 * IQR\n",
        "    upper = Q3 + 1.5 * IQR\n",
        "    df[col] = np.clip(df[col], lower, upper)\n",
        "\n",
        "# Separar variable objetivo y características\n",
        "X = df.iloc[:, 1:-1]\n",
        "y = df['Class'].replace({2: 0, 4: 1})  # 0: Benigno, 1: Maligno\n",
        "\n",
        "# Dividir en entrenamiento (75%) y prueba (25%)\n",
        "X_train, X_test, y_train, y_test = train_test_split(X, y, test_size=0.25, random_state=42)\n",
        "\n",
        "# Escalar datos\n",
        "scaler = StandardScaler()\n",
        "X_train = scaler.fit_transform(X_train)\n",
        "X_test = scaler.transform(X_test)\n",
        "\n",
        "# Resultados\n",
        "print(\"=== Resultados del Preprocesamiento ===\")\n",
        "print(\"\\n1. Primeras 5 filas del dataset:\")\n",
        "print(df.head())\n",
        "print(\"\\n2. Valores faltantes después de imputación:\")\n",
        "print(df.isnull().sum())\n",
        "print(\"\\n3. Distribución de clases (0: Benigno, 1: Maligno):\")\n",
        "print(y.value_counts())\n",
        "print(\"\\n4. Tamaño de los conjuntos:\")\n",
        "print(f\"Entrenamiento: {X_train.shape}, Prueba: {X_test.shape}\")"
      ],
      "metadata": {
        "colab": {
          "base_uri": "https://localhost:8080/"
        },
        "id": "fY2PyZdcNe0R",
        "outputId": "347fa7fa-4647-40e2-f804-0e6e874468f8"
      },
      "execution_count": null,
      "outputs": [
        {
          "output_type": "stream",
          "name": "stdout",
          "text": [
            "=== Resultados del Preprocesamiento ===\n",
            "\n",
            "1. Primeras 5 filas del dataset:\n",
            "   Sample code number  Clump Thickness  Uniformity of Cell Size  \\\n",
            "0             1000025                5                        1   \n",
            "1             1002945                5                        4   \n",
            "2             1015425                3                        1   \n",
            "3             1016277                6                        8   \n",
            "4             1017023                4                        1   \n",
            "\n",
            "   Uniformity of Cell Shape  Marginal Adhesion  Single Epithelial Cell Size  \\\n",
            "0                         1                1.0                            2   \n",
            "1                         4                5.0                            7   \n",
            "2                         1                1.0                            2   \n",
            "3                         8                1.0                            3   \n",
            "4                         1                3.0                            2   \n",
            "\n",
            "   Bare Nuclei  Bland Chromatin  Normal Nucleoli  Mitoses  Class  \n",
            "0          1.0              3.0              1.0        1      2  \n",
            "1         10.0              3.0              2.0        1      2  \n",
            "2          2.0              3.0              1.0        1      2  \n",
            "3          4.0              3.0              7.0        1      2  \n",
            "4          1.0              3.0              1.0        1      2  \n",
            "\n",
            "2. Valores faltantes después de imputación:\n",
            "Sample code number             0\n",
            "Clump Thickness                0\n",
            "Uniformity of Cell Size        0\n",
            "Uniformity of Cell Shape       0\n",
            "Marginal Adhesion              0\n",
            "Single Epithelial Cell Size    0\n",
            "Bare Nuclei                    0\n",
            "Bland Chromatin                0\n",
            "Normal Nucleoli                0\n",
            "Mitoses                        0\n",
            "Class                          0\n",
            "dtype: int64\n",
            "\n",
            "3. Distribución de clases (0: Benigno, 1: Maligno):\n",
            "Class\n",
            "0    458\n",
            "1    241\n",
            "Name: count, dtype: int64\n",
            "\n",
            "4. Tamaño de los conjuntos:\n",
            "Entrenamiento: (524, 9), Prueba: (175, 9)\n"
          ]
        }
      ]
    },
    {
      "cell_type": "markdown",
      "source": [
        "## B.- Genere el modelo k-NN y determine la cantidad de vecinos más adecuada con el método gráfico visto en clase. Además, calcule las métricas de clasificación que se implementaron en la parte práctica e interprete sus resultados más importantes."
      ],
      "metadata": {
        "id": "qh2_aMCVZVYJ"
      }
    },
    {
      "cell_type": "code",
      "source": [
        "from sklearn.neighbors import KNeighborsClassifier\n",
        "from sklearn.metrics import classification_report, confusion_matrix\n",
        "import matplotlib.pyplot as plt\n",
        "\n",
        "# Método gráfico para elegir k\n",
        "error_rates = []\n",
        "for k in range(1, 30):\n",
        "    knn = KNeighborsClassifier(n_neighbors=k)\n",
        "    knn.fit(X_train, y_train)\n",
        "    pred = knn.predict(X_test)\n",
        "    error_rates.append(np.mean(pred != y_test))\n",
        "\n",
        "# Gráfico de error vs k\n",
        "plt.figure(figsize=(10, 6))\n",
        "plt.plot(range(1, 30), error_rates, marker='o', linestyle='dashed')\n",
        "plt.title('Error vs. Número de vecinos (k)')\n",
        "plt.xlabel('k')\n",
        "plt.ylabel('Tasa de error')\n",
        "plt.show()\n",
        "\n",
        "# Entrenar con k óptimo (k=5 según gráfico)\n",
        "optimal_k = 5\n",
        "knn = KNeighborsClassifier(n_neighbors=optimal_k)\n",
        "knn.fit(X_train, y_train)\n",
        "y_pred = knn.predict(X_test)\n",
        "\n",
        "# Resultados\n",
        "print(\"\\n=== Resultados del Modelo k-NN ===\")\n",
        "print(f\"k óptimo: {optimal_k}\")\n",
        "print(\"\\nMatriz de confusión:\")\n",
        "print(confusion_matrix(y_test, y_pred))\n",
        "print(\"\\nReporte de clasificación:\")\n",
        "print(classification_report(y_test, y_pred))"
      ],
      "metadata": {
        "colab": {
          "base_uri": "https://localhost:8080/",
          "height": 892
        },
        "id": "P-yAa8ccIVeN",
        "outputId": "aaa1173d-24f9-4b7e-8074-2462ef5fa247"
      },
      "execution_count": null,
      "outputs": [
        {
          "output_type": "display_data",
          "data": {
            "text/plain": [
              "<Figure size 1000x600 with 1 Axes>"
            ],
            "image/png": "[encoded data removed]"
          },
          "metadata": {}
        },
        {
          "output_type": "stream",
          "name": "stdout",
          "text": [
            "\n",
            "=== Resultados del Modelo k-NN ===\n",
            "k óptimo: 5\n",
            "\n",
            "Matriz de confusión:\n",
            "[[116   2]\n",
            " [  2  55]]\n",
            "\n",
            "Reporte de clasificación:\n",
            "              precision    recall  f1-score   support\n",
            "\n",
            "           0       0.98      0.98      0.98       118\n",
            "           1       0.96      0.96      0.96        57\n",
            "\n",
            "    accuracy                           0.98       175\n",
            "   macro avg       0.97      0.97      0.97       175\n",
            "weighted avg       0.98      0.98      0.98       175\n",
            "\n"
          ]
        }
      ]
    },
    {
      "cell_type": "markdown",
      "source": [
        "## C.- Realice un balanceo de clases mediante la técnica SMOTE, vuelva a generar el modelo de clasificación, calcule sus métricas y compárelas con las del modelo sin balancear para ver si hubo o no mejoras."
      ],
      "metadata": {
        "id": "SAvbYB4rZkhu"
      }
    },
    {
      "cell_type": "code",
      "source": [
        "from imblearn.over_sampling import SMOTE\n",
        "from collections import Counter\n",
        "\n",
        "# Aplicar SMOTE\n",
        "smote = SMOTE(random_state=42)\n",
        "X_train_bal, y_train_bal = smote.fit_resample(X_train, y_train)\n",
        "\n",
        "# Reentrenar modelo\n",
        "knn_bal = KNeighborsClassifier(n_neighbors=optimal_k)\n",
        "knn_bal.fit(X_train_bal, y_train_bal)\n",
        "y_pred_bal = knn_bal.predict(X_test)\n",
        "\n",
        "# Resultados\n",
        "print(\"\\n=== Resultados con SMOTE ===\")\n",
        "print(\"Distribución después de SMOTE:\", Counter(y_train_bal))\n",
        "print(\"\\nMatriz de confusión con SMOTE:\")\n",
        "print(confusion_matrix(y_test, y_pred_bal))\n",
        "print(\"\\nReporte de clasificación con SMOTE:\")\n",
        "print(classification_report(y_test, y_pred_bal))\n"
      ],
      "metadata": {
        "colab": {
          "base_uri": "https://localhost:8080/"
        },
        "id": "6Xn7sl7IPN3t",
        "outputId": "ce0300f2-7393-440a-faa7-631ba1b3323f"
      },
      "execution_count": null,
      "outputs": [
        {
          "output_type": "stream",
          "name": "stdout",
          "text": [
            "\n",
            "=== Resultados con SMOTE ===\n",
            "Distribución después de SMOTE: Counter({0: 340, 1: 340})\n",
            "\n",
            "Matriz de confusión con SMOTE:\n",
            "[[116   2]\n",
            " [  0  57]]\n",
            "\n",
            "Reporte de clasificación con SMOTE:\n",
            "              precision    recall  f1-score   support\n",
            "\n",
            "           0       1.00      0.98      0.99       118\n",
            "           1       0.97      1.00      0.98        57\n",
            "\n",
            "    accuracy                           0.99       175\n",
            "   macro avg       0.98      0.99      0.99       175\n",
            "weighted avg       0.99      0.99      0.99       175\n",
            "\n"
          ]
        }
      ]
    },
    {
      "cell_type": "code",
      "source": [
        "comparacion = pd.DataFrame({\n",
        "    'Métrica': ['Accuracy', 'Precisión (Maligno)', 'Recall (Maligno)', 'F1-score (Maligno)'],\n",
        "    'Sin SMOTE': [\n",
        "        accuracy_score(y_test, y_pred),\n",
        "        precision_score(y_test, y_pred),\n",
        "        recall_score(y_test, y_pred),\n",
        "        f1_score(y_test, y_pred)\n",
        "    ],\n",
        "    'Con SMOTE': [\n",
        "        accuracy_score(y_test, y_pred_bal),\n",
        "        precision_score(y_test, y_pred_bal),\n",
        "        recall_score(y_test, y_pred_bal),\n",
        "        f1_score(y_test, y_pred_bal)\n",
        "    ]\n",
        "}).set_index('Métrica')\n",
        "\n",
        "print(\"\\n=== Comparación Final ===\")\n",
        "display(comparacion.style.format(\"{:.2%}\").background_gradient(cmap='Blues', axis=1))"
      ],
      "metadata": {
        "colab": {
          "base_uri": "https://localhost:8080/",
          "height": 242
        },
        "id": "xSeAT-qXQIPf",
        "outputId": "7e67f75f-9702-4e8e-8356-2799182f8b37"
      },
      "execution_count": null,
      "outputs": [
        {
          "output_type": "stream",
          "name": "stdout",
          "text": [
            "\n",
            "=== Comparación Final ===\n"
          ]
        },
        {
          "output_type": "display_data",
          "data": {
            "text/plain": [
              "<pandas.io.formats.style.Styler at 0x7a49cc6d0250>"
            ],
            "text/html": [
              "<style type=\"text/css\">\n",
              "#T_86033_row0_col0, #T_86033_row1_col0, #T_86033_row2_col0, #T_86033_row3_col0 {\n",
              "  background-color: #f7fbff;\n",
              "  color: #000000;\n",
              "}\n",
              "#T_86033_row0_col1, #T_86033_row1_col1, #T_86033_row2_col1, #T_86033_row3_col1 {\n",
              "  background-color: #08306b;\n",
              "  color: #f1f1f1;\n",
              "}\n",
              "</style>\n",
              "<table id=\"T_86033\" class=\"dataframe\">\n",
              "  <thead>\n",
              "    <tr>\n",
              "      <th class=\"blank level0\" >&nbsp;</th>\n",
              "      <th id=\"T_86033_level0_col0\" class=\"col_heading level0 col0\" >Sin SMOTE</th>\n",
              "      <th id=\"T_86033_level0_col1\" class=\"col_heading level0 col1\" >Con SMOTE</th>\n",
              "    </tr>\n",
              "    <tr>\n",
              "      <th class=\"index_name level0\" >Métrica</th>\n",
              "      <th class=\"blank col0\" >&nbsp;</th>\n",
              "      <th class=\"blank col1\" >&nbsp;</th>\n",
              "    </tr>\n",
              "  </thead>\n",
              "  <tbody>\n",
              "    <tr>\n",
              "      <th id=\"T_86033_level0_row0\" class=\"row_heading level0 row0\" >Accuracy</th>\n",
              "      <td id=\"T_86033_row0_col0\" class=\"data row0 col0\" >97.71%</td>\n",
              "      <td id=\"T_86033_row0_col1\" class=\"data row0 col1\" >98.86%</td>\n",
              "    </tr>\n",
              "    <tr>\n",
              "      <th id=\"T_86033_level0_row1\" class=\"row_heading level0 row1\" >Precisión (Maligno)</th>\n",
              "      <td id=\"T_86033_row1_col0\" class=\"data row1 col0\" >96.49%</td>\n",
              "      <td id=\"T_86033_row1_col1\" class=\"data row1 col1\" >96.61%</td>\n",
              "    </tr>\n",
              "    <tr>\n",
              "      <th id=\"T_86033_level0_row2\" class=\"row_heading level0 row2\" >Recall (Maligno)</th>\n",
              "      <td id=\"T_86033_row2_col0\" class=\"data row2 col0\" >96.49%</td>\n",
              "      <td id=\"T_86033_row2_col1\" class=\"data row2 col1\" >100.00%</td>\n",
              "    </tr>\n",
              "    <tr>\n",
              "      <th id=\"T_86033_level0_row3\" class=\"row_heading level0 row3\" >F1-score (Maligno)</th>\n",
              "      <td id=\"T_86033_row3_col0\" class=\"data row3 col0\" >96.49%</td>\n",
              "      <td id=\"T_86033_row3_col1\" class=\"data row3 col1\" >98.28%</td>\n",
              "    </tr>\n",
              "  </tbody>\n",
              "</table>\n"
            ]
          },
          "metadata": {}
        }
      ]
    }
  ]
}